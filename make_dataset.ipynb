{
 "cells": [
  {
   "cell_type": "code",
   "execution_count": 1,
   "metadata": {},
   "outputs": [],
   "source": [
    "import os\n",
    "import pandas as pd\n",
    "import json\n",
    "base_path = '/hpc2hdd/home/ypeng455/聊天记录'\n",
    "suffix = '_utf8.csv'\n",
    "chatnames = os.listdir(base_path)\n",
    "for chatname in chatnames:\n",
    "    image_path = base_path + chatname + '/image/'\n",
    "    csv_path = base_path + chatname +'/'+ chatname + suffix\n",
    "    try:\n",
    "        pd_csv = pd.read_csv(csv_path)\n",
    "    except:\n",
    "        continue\n",
    "    df = pd_csv.loc[(pd_csv['Type']==1) | (pd_csv['Type']==3)]\n",
    "    df = df.reset_index(drop=True)\n",
    "\n",
    "    remain_tokens = 2048\n",
    "    time_threshold = 3600\n",
    "    photo_tokens = 256\n",
    "    template_tokens = 30\n",
    "    sentence = ''\n",
    "    picture_num = 1\n",
    "    conversations = []\n",
    "    group = False\n",
    "    if len(df['Sender'].unique()) > 2:\n",
    "        group = True\n",
    "    for index, row in df.iterrows():\n",
    "        # 检查是否为最后一行，避免索引越界\n",
    "        if index < len(df) - 1:\n",
    "            if conversations == []:#添加system_input\n",
    "                if group:\n",
    "                    system = {\n",
    "                        \"from\":\"system\",\n",
    "                        \"value\":f\"你是彭一洋,微信昵称为Antigone,大家会称呼你为pyy,彭总，彭老师，下面你将要在群聊{chatname}中进行群聊对话\"\n",
    "                    }\n",
    "                else:\n",
    "                    try:\n",
    "                        id_row = df[df['NickName'] != 'Antigone'].iloc[0]\n",
    "                    except:\n",
    "                        continue\n",
    "                    system = {\n",
    "                        \"from\":\"system\",\n",
    "                        \"value\":f\"你是彭一洋,微信昵称为Antigone,大家会称呼你为pyy,彭总，彭老师，下面你将要与{','.join([id_row['Remark'],id_row['NickName'],id_row['Sender']])}进行一对一对话\"\n",
    "                    }\n",
    "                conversations.append(system)\n",
    "            #判断要不要开启新的conversation\n",
    "            next_input = df.iloc[index + 1]\n",
    "            if remain_tokens > 0 and next_input['CreateTime'] - row['CreateTime'] < time_threshold:\n",
    "                if len(conversations) == 1 and row['IsSender']:\n",
    "                    continue    #跳过非对方发起的对话，因为model不该主动发起对话\n",
    "                \n",
    "                # 考虑要不要合并sentence\n",
    "                if  next_input['Sender'] == row['Sender']:\n",
    "                    if row['Type'] == 1:\n",
    "                        sentence += row['StrContent'] + '/n'\n",
    "                        remain_tokens -= len(row['StrContent'])\n",
    "                    elif row['Type'] == 3:\n",
    "                        sentence += f\"Picture {picture_num}: <img>{row['CreateTime']}.jpg</img>\\n\"\n",
    "                        picture_num+=1\n",
    "                        remain_tokens -= photo_tokens\n",
    "                else:\n",
    "                    if row['Type'] == 1:\n",
    "                        sentence += row['StrContent'] + '/n'\n",
    "                        remain_tokens -= len(row['StrContent'])\n",
    "                    elif row['Type'] == 3:\n",
    "                        sentence += f\"Picture {picture_num}: <img>{row['CreateTime']}.jpg</img>\\n\"\n",
    "                        picture_num+=1\n",
    "                        remain_tokens -= photo_tokens\n",
    "                    role = 'user' if not row['IsSender'] else 'assistant'\n",
    "                    unit = {\"from\":role,\n",
    "                            \"value\":sentence+\"来自:\"+','.join([row['Remark'],row['NickName'],row['Sender']])}\n",
    "                    conversations.append(unit)\n",
    "                    sentence = ''\n",
    "                    \n",
    "            else:\n",
    "                if 'user' in str(conversations) and 'assistant' in str(conversations):\n",
    "                    new_data = {\"id\":\"\",\n",
    "                                \"conversations\":conversations}\n",
    "                    json_file_path = 'path_to_your_json_file.json'\n",
    "\n",
    "                    # 读取现有的JSON文件内容到列表对象\n",
    "                    with open(json_file_path, 'r', encoding='utf-8') as f:\n",
    "                        data = json.load(f)\n",
    "                    if data == '':\n",
    "                        data = []\n",
    "                    # 将新数据字典添加到列表的末尾\n",
    "                    data.append(new_data)\n",
    "\n",
    "                    # 将更新后的列表写回到JSON文件\n",
    "                    with open(json_file_path, 'w', encoding='utf-8') as f:\n",
    "                        json.dump(data, f, ensure_ascii=False, indent=4)\n",
    "                \n",
    "                remain_tokens,picture_num,conversations = 2048,1,[]\n",
    "        else:\n",
    "            # 这是最后一行，没有下一行可以处理\n",
    "            print(\"这是最后一行数据。\",index)\n",
    "            break"
   ]
  },
  {
   "cell_type": "code",
   "execution_count": 2,
   "metadata": {},
   "outputs": [
    {
     "name": "stdout",
     "output_type": "stream",
     "text": [
      "/hpc2hdd/home/ypeng455/Qwen-VL\n"
     ]
    }
   ],
   "source": [
    "!pwd"
   ]
  }
 ],
 "metadata": {
  "kernelspec": {
   "display_name": "Python 3.9.19 ('py39': conda)",
   "language": "python",
   "name": "python3"
  },
  "language_info": {
   "codemirror_mode": {
    "name": "ipython",
    "version": 3
   },
   "file_extension": ".py",
   "mimetype": "text/x-python",
   "name": "python",
   "nbconvert_exporter": "python",
   "pygments_lexer": "ipython3",
   "version": "3.9.19"
  },
  "orig_nbformat": 4,
  "vscode": {
   "interpreter": {
    "hash": "f688b49bf7bbd372001c59148eb4c8aaba45f80791d96530eef356c517b27051"
   }
  }
 },
 "nbformat": 4,
 "nbformat_minor": 2
}
